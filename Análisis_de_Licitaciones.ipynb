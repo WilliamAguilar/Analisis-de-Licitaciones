{
  "nbformat": 4,
  "nbformat_minor": 0,
  "metadata": {
    "colab": {
      "name": "Análisis de Licitaciones.ipynb",
      "provenance": [],
      "collapsed_sections": [],
      "toc_visible": true,
      "include_colab_link": true
    },
    "kernelspec": {
      "name": "python3",
      "display_name": "Python 3"
    },
    "language_info": {
      "name": "python"
    }
  },
  "cells": [
    {
      "cell_type": "markdown",
      "metadata": {
        "id": "view-in-github",
        "colab_type": "text"
      },
      "source": [
        "<a href=\"https://colab.research.google.com/github/WilliamAguilar/Analisis-de-Licitaciones/blob/main/An%C3%A1lisis_de_Licitaciones.ipynb\" target=\"_parent\"><img src=\"https://colab.research.google.com/assets/colab-badge.svg\" alt=\"Open In Colab\"/></a>"
      ]
    },
    {
      "cell_type": "markdown",
      "metadata": {
        "id": "ROA1EhQDIpF7"
      },
      "source": [
        "# **Data Challenge ULACIT 2021**\n",
        "# **Equipo 18**\n",
        "# **Análisis de Licitaciones**\n",
        "\n",
        "---\n",
        "\n",
        "\n"
      ]
    },
    {
      "cell_type": "markdown",
      "metadata": {
        "id": "vp3z-ENQKpz0"
      },
      "source": [
        "# Problema planteado"
      ]
    },
    {
      "cell_type": "markdown",
      "metadata": {
        "id": "t7TiLwXDKukU"
      },
      "source": [
        "Entre los años del 2016 y el 2020, el Poder Judicial de Costa Rica publicó los datos abiertos de sus procesos de licitación.\n",
        "Estas contrataciones públicas abiertas contienen una variedad de información a la que se le podría realizar distintos analisis y estadisticas.\n",
        "Sin embargo, este hecho también representa un problema, en cuanto a que hay que decidir cuáles de todos esos datos utilizar y para qué utilizarlos.\n",
        "En nuestro caso, el planteamiento que proponemos es de observar las variables que indiquen qué tan variadas han sido las licitaciones del Poder Judicial y cuántos de esos procesos de contratación publica tuvieron oferentes.\n",
        "Adicionalmente, también es adecuado incluir algunos gráficos descriptivos de ciertas variables extra.\n"
      ]
    },
    {
      "cell_type": "markdown",
      "metadata": {
        "id": "JxiKbTnsL_B8"
      },
      "source": [
        "# Análsis del problema planteado"
      ]
    },
    {
      "cell_type": "markdown",
      "metadata": {
        "id": "7RbQJbXHMDfz"
      },
      "source": [
        "Tanto las empresas como las instituciones e incluso los individuos presentan gustos y prefencias a la hora de realizar sus compras. Sin embargo, resulta escencial buscar la manera de optimizar dichas compras. Tener una diversidad de productos y escoger el que ofrezca la mayor calidad al mejor precio es indispensable. \n",
        "El Poder Judicial debería buscar esta optimizacion en sus contrataciones o, al menos, presentar una mejora durante los años.\n",
        "Para analizar esto usaremos los datos de Releases (donde se encuentran todas las licitaciones) y Parties (donde estan presentes todas las partes involucradas en cada licitación)."
      ]
    },
    {
      "cell_type": "markdown",
      "metadata": {
        "id": "wkAl9e-_LjVM"
      },
      "source": [
        "#Datos utilizados"
      ]
    },
    {
      "cell_type": "code",
      "metadata": {
        "id": "zyTsekdgIpA7"
      },
      "source": [
        "calculoRelease2020 = pd.read_csv(\"/content/releases2020.csv\")\n",
        "calculoParties2020 = pd.read_csv(\"/content/parties2020.csv\")\n",
        "calculoRelease2019 = pd.read_csv(\"/content/releases2019.csv\")\n",
        "calculoParties2019 = pd.read_csv(\"/content/parties2019.csv\")\n",
        "calculoRelease2018 = pd.read_csv(\"/content/releases2018.csv\")\n",
        "calculoParties2018 = pd.read_csv(\"/content/parties2018.csv\")"
      ],
      "execution_count": 204,
      "outputs": []
    },
    {
      "cell_type": "markdown",
      "metadata": {
        "id": "kwXgIF59hs8W"
      },
      "source": [
        "Releases Poder Judicial 2020:"
      ]
    },
    {
      "cell_type": "code",
      "metadata": {
        "colab": {
          "base_uri": "https://localhost:8080/",
          "height": 591
        },
        "id": "3GtYqjX8JK91",
        "outputId": "a47b6e29-4886-450d-daba-bd9d2403e757"
      },
      "source": [
        "calculoRelease2020.head()"
      ],
      "execution_count": 205,
      "outputs": [
        {
          "output_type": "execute_result",
          "data": {
            "text/html": [
              "<div>\n",
              "<style scoped>\n",
              "    .dataframe tbody tr th:only-of-type {\n",
              "        vertical-align: middle;\n",
              "    }\n",
              "\n",
              "    .dataframe tbody tr th {\n",
              "        vertical-align: top;\n",
              "    }\n",
              "\n",
              "    .dataframe thead th {\n",
              "        text-align: right;\n",
              "    }\n",
              "</style>\n",
              "<table border=\"1\" class=\"dataframe\">\n",
              "  <thead>\n",
              "    <tr style=\"text-align: right;\">\n",
              "      <th></th>\n",
              "      <th>ocid</th>\n",
              "      <th>id</th>\n",
              "      <th>date</th>\n",
              "      <th>tag</th>\n",
              "      <th>initiationType</th>\n",
              "      <th>buyer/id</th>\n",
              "      <th>buyer/name</th>\n",
              "      <th>tender/id</th>\n",
              "      <th>tender/title</th>\n",
              "      <th>tender/description</th>\n",
              "      <th>tender/status</th>\n",
              "      <th>tender/procuringEntity/id</th>\n",
              "      <th>tender/procuringEntity/name</th>\n",
              "      <th>tender/value/amount</th>\n",
              "      <th>tender/value/currency</th>\n",
              "      <th>tender/procurementMethod</th>\n",
              "      <th>tender/mainProcurementCategory</th>\n",
              "      <th>tender/awardCriteria</th>\n",
              "      <th>tender/submissionMethod</th>\n",
              "      <th>tender/tenderPeriod/startDate</th>\n",
              "      <th>tender/tenderPeriod/endDate</th>\n",
              "      <th>tender/enquiryPeriod/startDate</th>\n",
              "      <th>tender/enquiryPeriod/endDate</th>\n",
              "      <th>tender/awardPeriod/startDate</th>\n",
              "      <th>tender/awardPeriod/endDate</th>\n",
              "      <th>language</th>\n",
              "      <th>planning/budget/description</th>\n",
              "    </tr>\n",
              "  </thead>\n",
              "  <tbody>\n",
              "    <tr>\n",
              "      <th>0</th>\n",
              "      <td>ocds-fnha3a-000001-2020</td>\n",
              "      <td>2020CD-000001-ARG12PJCM</td>\n",
              "      <td>2020-01-06T10:18:00-06:00</td>\n",
              "      <td>tender</td>\n",
              "      <td>tender</td>\n",
              "      <td>2-300-042155</td>\n",
              "      <td>Corte Suprema de Justicia Poder Judicial</td>\n",
              "      <td>000001-2020</td>\n",
              "      <td>Servicio de fotocopiado</td>\n",
              "      <td>Servicio de fotocopiado</td>\n",
              "      <td>active</td>\n",
              "      <td>2-300-042155</td>\n",
              "      <td>Corte Suprema de Justicia Poder Judicial</td>\n",
              "      <td>400000.0</td>\n",
              "      <td>CRC</td>\n",
              "      <td>open</td>\n",
              "      <td>services</td>\n",
              "      <td>ratedCriteria</td>\n",
              "      <td>inPerson</td>\n",
              "      <td>2020-01-06T11:00:00-06:00</td>\n",
              "      <td>2020-01-06T15:00:00-06:00</td>\n",
              "      <td>2020-01-06T11:00:00-06:00</td>\n",
              "      <td>2020-01-06T15:00:00-06:00</td>\n",
              "      <td>2020-01-06T15:00:00-06:00</td>\n",
              "      <td>2020-01-20T00:00:00-06:00</td>\n",
              "      <td>es</td>\n",
              "      <td>NaN</td>\n",
              "    </tr>\n",
              "    <tr>\n",
              "      <th>1</th>\n",
              "      <td>ocds-fnha3a-000002-2020</td>\n",
              "      <td>2020CD-000002-ARG12PJCM</td>\n",
              "      <td>2020-01-06T10:22:00-06:00</td>\n",
              "      <td>tender</td>\n",
              "      <td>tender</td>\n",
              "      <td>2-300-042155</td>\n",
              "      <td>Corte Suprema de Justicia Poder Judicial</td>\n",
              "      <td>000002-2020</td>\n",
              "      <td>Mantenimiento preventivo y correctivo de manej...</td>\n",
              "      <td>Mantenimiento preventivo y correctivo de manej...</td>\n",
              "      <td>active</td>\n",
              "      <td>2-300-042155</td>\n",
              "      <td>Corte Suprema de Justicia Poder Judicial</td>\n",
              "      <td>1800000.0</td>\n",
              "      <td>CRC</td>\n",
              "      <td>open</td>\n",
              "      <td>services</td>\n",
              "      <td>ratedCriteria</td>\n",
              "      <td>inPerson</td>\n",
              "      <td>2020-01-06T11:15:00-06:00</td>\n",
              "      <td>2020-01-06T15:00:00-06:00</td>\n",
              "      <td>2020-01-06T11:15:00-06:00</td>\n",
              "      <td>2020-01-06T15:00:00-06:00</td>\n",
              "      <td>2020-01-06T15:00:00-06:00</td>\n",
              "      <td>2020-01-20T00:00:00-06:00</td>\n",
              "      <td>es</td>\n",
              "      <td>NaN</td>\n",
              "    </tr>\n",
              "    <tr>\n",
              "      <th>2</th>\n",
              "      <td>ocds-fnha3a-000003-2020</td>\n",
              "      <td>2020CD-000001-PROVCD</td>\n",
              "      <td>2020-01-07T08:43:00-06:00</td>\n",
              "      <td>tender</td>\n",
              "      <td>tender</td>\n",
              "      <td>2-300-042155</td>\n",
              "      <td>Corte Suprema de Justicia Poder Judicial</td>\n",
              "      <td>000003-2020</td>\n",
              "      <td>Mantenimiento preventivo-correctivo de la UPS ...</td>\n",
              "      <td>Mantenimiento preventivo-correctivo de la UPS ...</td>\n",
              "      <td>cancelled</td>\n",
              "      <td>2-300-042155</td>\n",
              "      <td>Corte Suprema de Justicia Poder Judicial</td>\n",
              "      <td>0.0</td>\n",
              "      <td>CRC</td>\n",
              "      <td>open</td>\n",
              "      <td>NaN</td>\n",
              "      <td>ratedCriteria</td>\n",
              "      <td>electronicSubmission</td>\n",
              "      <td>1900-01-01T00:00:00-06:00</td>\n",
              "      <td>1900-01-01T00:00:00-06:00</td>\n",
              "      <td>1900-01-01T00:00:00-06:00</td>\n",
              "      <td>1900-01-01T00:00:00-06:00</td>\n",
              "      <td>1900-01-01T00:00:00-06:00</td>\n",
              "      <td>1900-01-01T00:00:00-06:00</td>\n",
              "      <td>es</td>\n",
              "      <td>NaN</td>\n",
              "    </tr>\n",
              "    <tr>\n",
              "      <th>3</th>\n",
              "      <td>ocds-fnha3a-000004-2020</td>\n",
              "      <td>2020CD-000002-PROVCD</td>\n",
              "      <td>2020-01-09T09:45:00-06:00</td>\n",
              "      <td>tender</td>\n",
              "      <td>tender</td>\n",
              "      <td>2-300-042155</td>\n",
              "      <td>Corte Suprema de Justicia Poder Judicial</td>\n",
              "      <td>000004-2020</td>\n",
              "      <td>Contrato de reactivos para la realización de p...</td>\n",
              "      <td>Contrato de reactivos para la realización de p...</td>\n",
              "      <td>complete</td>\n",
              "      <td>2-300-042155</td>\n",
              "      <td>Corte Suprema de Justicia Poder Judicial</td>\n",
              "      <td>1224332.4</td>\n",
              "      <td>CRC</td>\n",
              "      <td>open</td>\n",
              "      <td>goods</td>\n",
              "      <td>ratedCriteria</td>\n",
              "      <td>electronicSubmission</td>\n",
              "      <td>2020-04-29T15:44:00-06:00</td>\n",
              "      <td>2020-05-05T15:00:00-06:00</td>\n",
              "      <td>2020-04-29T15:44:00-06:00</td>\n",
              "      <td>2020-05-05T15:00:00-06:00</td>\n",
              "      <td>2020-05-05T15:00:00-06:00</td>\n",
              "      <td>2020-05-19T00:00:00-06:00</td>\n",
              "      <td>es</td>\n",
              "      <td>NaN</td>\n",
              "    </tr>\n",
              "    <tr>\n",
              "      <th>4</th>\n",
              "      <td>ocds-fnha3a-000005-2020</td>\n",
              "      <td>2020CD-000003-PROVCD</td>\n",
              "      <td>2020-01-10T08:47:00-06:00</td>\n",
              "      <td>tender</td>\n",
              "      <td>tender</td>\n",
              "      <td>2-300-042155</td>\n",
              "      <td>Corte Suprema de Justicia Poder Judicial</td>\n",
              "      <td>000005-2020</td>\n",
              "      <td>Contrato de mantenimiento preventivo, calibrac...</td>\n",
              "      <td>Contrato de mantenimiento preventivo, calibrac...</td>\n",
              "      <td>complete</td>\n",
              "      <td>2-300-042155</td>\n",
              "      <td>Corte Suprema de Justicia Poder Judicial</td>\n",
              "      <td>2567017.5</td>\n",
              "      <td>CRC</td>\n",
              "      <td>open</td>\n",
              "      <td>services</td>\n",
              "      <td>ratedCriteria</td>\n",
              "      <td>electronicSubmission</td>\n",
              "      <td>2020-02-28T10:39:00-06:00</td>\n",
              "      <td>2020-03-04T10:00:00-06:00</td>\n",
              "      <td>2020-02-28T10:39:00-06:00</td>\n",
              "      <td>2020-03-04T10:00:00-06:00</td>\n",
              "      <td>2020-03-04T10:00:00-06:00</td>\n",
              "      <td>2020-03-18T00:00:00-06:00</td>\n",
              "      <td>es</td>\n",
              "      <td>NaN</td>\n",
              "    </tr>\n",
              "  </tbody>\n",
              "</table>\n",
              "</div>"
            ],
            "text/plain": [
              "                      ocid  ... planning/budget/description\n",
              "0  ocds-fnha3a-000001-2020  ...                         NaN\n",
              "1  ocds-fnha3a-000002-2020  ...                         NaN\n",
              "2  ocds-fnha3a-000003-2020  ...                         NaN\n",
              "3  ocds-fnha3a-000004-2020  ...                         NaN\n",
              "4  ocds-fnha3a-000005-2020  ...                         NaN\n",
              "\n",
              "[5 rows x 27 columns]"
            ]
          },
          "metadata": {
            "tags": []
          },
          "execution_count": 205
        }
      ]
    },
    {
      "cell_type": "markdown",
      "metadata": {
        "id": "_C7q8gnXhyBJ"
      },
      "source": [
        "Parties Poder Judicial 2020:"
      ]
    },
    {
      "cell_type": "code",
      "metadata": {
        "colab": {
          "base_uri": "https://localhost:8080/",
          "height": 539
        },
        "id": "DyiiKpm4JUH3",
        "outputId": "23e8b293-1553-49c5-ae91-61f49b4a4333"
      },
      "source": [
        "calculoParties2019.head()"
      ],
      "execution_count": 206,
      "outputs": [
        {
          "output_type": "execute_result",
          "data": {
            "text/html": [
              "<div>\n",
              "<style scoped>\n",
              "    .dataframe tbody tr th:only-of-type {\n",
              "        vertical-align: middle;\n",
              "    }\n",
              "\n",
              "    .dataframe tbody tr th {\n",
              "        vertical-align: top;\n",
              "    }\n",
              "\n",
              "    .dataframe thead th {\n",
              "        text-align: right;\n",
              "    }\n",
              "</style>\n",
              "<table border=\"1\" class=\"dataframe\">\n",
              "  <thead>\n",
              "    <tr style=\"text-align: right;\">\n",
              "      <th></th>\n",
              "      <th>ocid</th>\n",
              "      <th>id</th>\n",
              "      <th>parties/0/id</th>\n",
              "      <th>parties/0/name</th>\n",
              "      <th>parties/0/identifier/id</th>\n",
              "      <th>parties/0/identifier/legalName</th>\n",
              "      <th>parties/0/roles</th>\n",
              "      <th>parties/0/contactPoint/name</th>\n",
              "      <th>parties/0/contactPoint/email</th>\n",
              "      <th>parties/0/contactPoint/telephone</th>\n",
              "      <th>parties/0/contactPoint/faxNumber</th>\n",
              "      <th>parties/0/address/streetAddress</th>\n",
              "      <th>parties/0/address/postalCode</th>\n",
              "    </tr>\n",
              "  </thead>\n",
              "  <tbody>\n",
              "    <tr>\n",
              "      <th>0</th>\n",
              "      <td>ocds-fnha3a-000001-2019</td>\n",
              "      <td>2019CD-000001-ARG12PJCM</td>\n",
              "      <td>2300042155</td>\n",
              "      <td>Corte Suprema de Justicia Poder Judicial</td>\n",
              "      <td>2300042155</td>\n",
              "      <td>Corte Suprema de Justicia Poder Judicial</td>\n",
              "      <td>buyer;procuringEntity</td>\n",
              "      <td>Departamento de Proveeduria</td>\n",
              "      <td>proveeduria@poder-judicial.go.cr</td>\n",
              "      <td>2295-3617</td>\n",
              "      <td>2221-8983</td>\n",
              "      <td>NaN</td>\n",
              "      <td>NaN</td>\n",
              "    </tr>\n",
              "    <tr>\n",
              "      <th>1</th>\n",
              "      <td>ocds-fnha3a-000001-2019</td>\n",
              "      <td>2019CD-000001-ARG12PJCM</td>\n",
              "      <td>0603050353</td>\n",
              "      <td>JOHANNA ALPIZAR TIJERINO</td>\n",
              "      <td>0603050353</td>\n",
              "      <td>JOHANNA ALPIZAR TIJERINO</td>\n",
              "      <td>supplier;tenderer</td>\n",
              "      <td>NaN</td>\n",
              "      <td>manualidadesjoha@gmail.com</td>\n",
              "      <td>NaN</td>\n",
              "      <td>NaN</td>\n",
              "      <td>NaN</td>\n",
              "      <td>NaN</td>\n",
              "    </tr>\n",
              "    <tr>\n",
              "      <th>2</th>\n",
              "      <td>ocds-fnha3a-000002-2019</td>\n",
              "      <td>2019CD-000001-PROVCM</td>\n",
              "      <td>3101251650</td>\n",
              "      <td>Corporación Vado Quesada S. A.</td>\n",
              "      <td>3101251650</td>\n",
              "      <td>Corporación Vado Quesada S. A.</td>\n",
              "      <td>tenderer</td>\n",
              "      <td>NaN</td>\n",
              "      <td>infovado@vadoquesada.com</td>\n",
              "      <td>22900009</td>\n",
              "      <td>22900009</td>\n",
              "      <td>NaN</td>\n",
              "      <td>NaN</td>\n",
              "    </tr>\n",
              "    <tr>\n",
              "      <th>3</th>\n",
              "      <td>ocds-fnha3a-000002-2019</td>\n",
              "      <td>2019CD-000001-PROVCM</td>\n",
              "      <td>2300042155</td>\n",
              "      <td>Corte Suprema de Justicia Poder Judicial</td>\n",
              "      <td>2300042155</td>\n",
              "      <td>Corte Suprema de Justicia Poder Judicial</td>\n",
              "      <td>buyer;procuringEntity</td>\n",
              "      <td>Departamento de Proveeduria</td>\n",
              "      <td>proveeduria@poder-judicial.go.cr</td>\n",
              "      <td>2295-3617</td>\n",
              "      <td>2221-8983</td>\n",
              "      <td>NaN</td>\n",
              "      <td>NaN</td>\n",
              "    </tr>\n",
              "    <tr>\n",
              "      <th>4</th>\n",
              "      <td>ocds-fnha3a-000002-2019</td>\n",
              "      <td>2019CD-000001-PROVCM</td>\n",
              "      <td>3101576808</td>\n",
              "      <td>G y R Grupo Asesor S. A.</td>\n",
              "      <td>3101576808</td>\n",
              "      <td>G y R Grupo Asesor S. A.</td>\n",
              "      <td>tenderer</td>\n",
              "      <td>NaN</td>\n",
              "      <td>gyrventas@ice.co.cr</td>\n",
              "      <td>22450909</td>\n",
              "      <td>22459370</td>\n",
              "      <td>Del Colegio Madre del Divino Pastor en Guadalu...</td>\n",
              "      <td>NaN</td>\n",
              "    </tr>\n",
              "  </tbody>\n",
              "</table>\n",
              "</div>"
            ],
            "text/plain": [
              "                      ocid  ... parties/0/address/postalCode\n",
              "0  ocds-fnha3a-000001-2019  ...                          NaN\n",
              "1  ocds-fnha3a-000001-2019  ...                          NaN\n",
              "2  ocds-fnha3a-000002-2019  ...                          NaN\n",
              "3  ocds-fnha3a-000002-2019  ...                          NaN\n",
              "4  ocds-fnha3a-000002-2019  ...                          NaN\n",
              "\n",
              "[5 rows x 13 columns]"
            ]
          },
          "metadata": {
            "tags": []
          },
          "execution_count": 206
        }
      ]
    },
    {
      "cell_type": "markdown",
      "metadata": {
        "id": "r263Qt4wh1jh"
      },
      "source": [
        "Para los años 2018 y 2019 se utilizaron los mismos datos mostrados para el 2020. "
      ]
    },
    {
      "cell_type": "markdown",
      "metadata": {
        "id": "VK0HBzTmK1Cc"
      },
      "source": [
        "#Solición desarrollada"
      ]
    },
    {
      "cell_type": "markdown",
      "metadata": {
        "id": "0ErpPyi06HK4"
      },
      "source": [
        "El objetivo es utilizar la columna \"id\" de Releases y contar cuántas veces están presentes esas identificaciones de cada licitación en la columna \"id\" de Parties. Esto se realiza con un ciclo for. Una vez hecho esto se crean dos DataFrames nuevos; uno en donde las ocurrencias fueron 0 y otro donde fueron diferente de 0. De esta manera, en el primer df se puede apreciar cuántas y cuáles licitaciones *no* estuvieron presentes en Parties y, en el otro, claramente lo opuesto."
      ]
    },
    {
      "cell_type": "markdown",
      "metadata": {
        "id": "29tNBAwx6OkO"
      },
      "source": [
        "Seguidamente se crea un tercer df donde solo se toma en cuenta los oferentes que tambien tuvieron estatus de \"proveedor\" y se procede a utilizar un metodo igual al previo para identificar cuántos y cuáles oferentes tuvo cada licitacion. Finalmente, se crea un df final que muestre todas las licitaciones que tuvieran más de un proveedor."
      ]
    },
    {
      "cell_type": "code",
      "metadata": {
        "id": "JeAKB0Q7CMyN"
      },
      "source": [
        "import pandas as pd\n",
        "import seaborn as sns\n",
        "import matplotlib.pyplot as plt\n",
        "\n",
        "class CalculoReleaseAndParty:\n",
        "    def __init__(self, rel, par):\n",
        "        self.__lista1 = []\n",
        "        self.__lista2 = []\n",
        "        self.__rel2019 = rel\n",
        "        self.__part2019 = par\n",
        "        self.cargarLista()\n",
        "\n",
        "    @property\n",
        "    def rel2019(self):\n",
        "        return self.__rel2019\n",
        "\n",
        "    @rel2019.setter\n",
        "    def rel2019(self, rel2019):\n",
        "        self.__rel2019 = rel2019\n",
        "\n",
        "    @property\n",
        "    def lista1(self):\n",
        "        return self.__lista1\n",
        "\n",
        "    @property\n",
        "    def lista2(self):\n",
        "        return self.__lista2\n",
        "\n",
        "    @lista1.setter\n",
        "    def lista1(self, lista1):\n",
        "        self.__lista1 = lista1\n",
        "\n",
        "    @lista2.setter\n",
        "    def lista2(self, lista2):\n",
        "        self.__lista2 = lista2\n",
        "\n",
        "    def cargarLista(self):\n",
        "        self.__lista1 = self.__rel2019[\"id\"].to_list()\n",
        "        self.__lista2 = self.__part2019[\"id\"].to_list()\n",
        "\n",
        "    def obtenerOcurrenciasSinLicitacion(self):\n",
        "        ocurrencias = []\n",
        "        for i in self.__lista1:\n",
        "            c = self.__lista2.count(i)\n",
        "            ocurrencias.append(c)\n",
        "        self.__rel2019[\"Ocurrencias\"] = ocurrencias\n",
        "        df = self.__rel2019.loc[(self.__rel2019[\"Ocurrencias\"] == 0)]\n",
        "        df[\"tender/status\"].value_counts()\n",
        "        valorAcumuladoOcurrenciasSinLicitacion = 0\n",
        "        lista = df[\"tender/value/amount\"].to_list()\n",
        "        for x in lista:\n",
        "            valorAcumuladoOcurrenciasSinLicitacion = valorAcumuladoOcurrenciasSinLicitacion + int(x)\n",
        "        return valorAcumuladoOcurrenciasSinLicitacion\n",
        "\n",
        "    def obtenerOcurrenciasConLicitacion(self):\n",
        "        ocurrencias = []\n",
        "        for i in self.__lista1:\n",
        "            c = self.__lista2.count(i)\n",
        "            ocurrencias.append(c)\n",
        "        self.__rel2019[\"Ocurrencias\"] = ocurrencias\n",
        "        df = self.__rel2019.loc[(self.__rel2019[\"Ocurrencias\"] != 0)]\n",
        "        df[\"Tenderers\"] = df[\"Ocurrencias\"] - 1\n",
        "        return df[\"Tenderers\"].describe()\n",
        "\n",
        "    def multiplesProvedores(self):\n",
        "        df3 = self.__part2019.loc[(self.__part2019[\"parties/0/roles\"] == \"supplier;tenderer\")]\n",
        "        df3[\"parties/0/identifier/legalName\"].value_counts()\n",
        "        list3 = df3[\"id\"].to_list()\n",
        "        oc = []\n",
        "        for k in self.lista1:\n",
        "            r = list3.count(k)\n",
        "            oc.append(r)\n",
        "        self.rel2019[\"Provedores\"] = oc\n",
        "        df4 = self.rel2019.loc[(self.rel2019[\"Provedores\"] >= 2)]\n",
        "        return df4[\"Provedores\"].describe()\n",
        "   "
      ],
      "execution_count": 207,
      "outputs": []
    },
    {
      "cell_type": "markdown",
      "metadata": {
        "id": "jk6Ghixg6WJQ"
      },
      "source": [
        "En el próximo segmento se puede apreciar algunos de los resultados utilizando las diferentes funciones que se definieron. "
      ]
    },
    {
      "cell_type": "code",
      "metadata": {
        "id": "6FBqgwRGDxuJ"
      },
      "source": [
        "import pandas as pd\n",
        "import matplotlib.pyplot as plt\n",
        "import seaborn as sns\n",
        "\n",
        "class GenerarInforme:\n",
        "    def __init__(self):\n",
        "        self.__lista1 = []\n",
        "        self.__lista2 = []\n",
        "        self.__lista3 = []\n",
        "\n",
        "    @property\n",
        "    def lista1(self):\n",
        "        return self.__lista1\n",
        "\n",
        "    @property\n",
        "    def lista2(self):\n",
        "        return self.__lista2\n",
        "\n",
        "    @property\n",
        "    def lista3(self):\n",
        "        return self.__lista3\n",
        "\n",
        "    @lista1.setter\n",
        "    def lista1(self, listaNueva):\n",
        "        self.__lista1 = listaNueva\n",
        "\n",
        "    @lista2.setter\n",
        "    def lista2(self, listaNueva):\n",
        "        self.__lista2 = listaNueva\n",
        "\n",
        "    @lista3.setter\n",
        "    def lista3(self, listaNueva):\n",
        "        self.__lista3 = listaNueva\n",
        "\n",
        "    def generarGraficoLicitaciones(self):\n",
        "        a4_dims = (20,8.27)\n",
        "        fig, ax = plt.subplots(figsize=a4_dims)\n",
        "        list = [\"2018\", \"2019\", \"2020\"]\n",
        "        listaValores = [self.__lista1, self.__lista2, self.__lista3]\n",
        "        dic = {\"Fechas\": list, \"Valores\": listaValores}\n",
        "        datos = pd.DataFrame(dic)\n",
        "        sns.barplot(data=datos, x=\"Fechas\", y=\"Valores\").set(title='Años vs Valores ocurrencias sin licitacion', xlabel='Años', ylabel='Ocurrencias sin licitacion')\n"
      ],
      "execution_count": 208,
      "outputs": []
    },
    {
      "cell_type": "code",
      "metadata": {
        "id": "ll6yg_-yCQ0Q"
      },
      "source": [
        "calculoReleaseAndParty2020 = CalculoReleaseAndParty(pd.read_csv(\"/content/releases2020.csv\"),pd.read_csv(\"/content/parties2020.csv\"))\n",
        "calculoReleaseAndParty2019 = CalculoReleaseAndParty(pd.read_csv(\"/content/releases2019.csv\"),pd.read_csv(\"/content/parties2019.csv\"))\n",
        "calculoReleaseAndParty2018 = CalculoReleaseAndParty(pd.read_csv(\"/content/releases2018.csv\"),pd.read_csv(\"/content/parties2018.csv\"))\n"
      ],
      "execution_count": 209,
      "outputs": []
    },
    {
      "cell_type": "code",
      "metadata": {
        "id": "JKcgajpoDDjj",
        "colab": {
          "base_uri": "https://localhost:8080/"
        },
        "outputId": "4357d81e-260d-4e5f-ea59-6c12db3783b5"
      },
      "source": [
        "calculoReleaseAndParty2020.obtenerOcurrenciasConLicitacion()\n"
      ],
      "execution_count": 210,
      "outputs": [
        {
          "output_type": "stream",
          "text": [
            "/usr/local/lib/python3.7/dist-packages/ipykernel_launcher.py:62: SettingWithCopyWarning: \n",
            "A value is trying to be set on a copy of a slice from a DataFrame.\n",
            "Try using .loc[row_indexer,col_indexer] = value instead\n",
            "\n",
            "See the caveats in the documentation: https://pandas.pydata.org/pandas-docs/stable/user_guide/indexing.html#returning-a-view-versus-a-copy\n"
          ],
          "name": "stderr"
        },
        {
          "output_type": "execute_result",
          "data": {
            "text/plain": [
              "count    1983.000000\n",
              "mean        2.692385\n",
              "std         2.068498\n",
              "min         1.000000\n",
              "25%         1.000000\n",
              "50%         2.000000\n",
              "75%         4.000000\n",
              "max        17.000000\n",
              "Name: Tenderers, dtype: float64"
            ]
          },
          "metadata": {
            "tags": []
          },
          "execution_count": 210
        }
      ]
    },
    {
      "cell_type": "code",
      "metadata": {
        "id": "Hnr4tWbLDE3b",
        "colab": {
          "base_uri": "https://localhost:8080/"
        },
        "outputId": "b45c2de5-3d5f-43bb-8085-5f056f636a79"
      },
      "source": [
        "calculoReleaseAndParty2020.obtenerOcurrenciasSinLicitacion()\n"
      ],
      "execution_count": 211,
      "outputs": [
        {
          "output_type": "execute_result",
          "data": {
            "text/plain": [
              "1439561788"
            ]
          },
          "metadata": {
            "tags": []
          },
          "execution_count": 211
        }
      ]
    },
    {
      "cell_type": "code",
      "metadata": {
        "id": "Zn6PX-m6DH7l",
        "colab": {
          "base_uri": "https://localhost:8080/"
        },
        "outputId": "c3a024d4-c468-4110-af13-f7710ce76841"
      },
      "source": [
        "print(calculoReleaseAndParty2020.multiplesProvedores())\n"
      ],
      "execution_count": 212,
      "outputs": [
        {
          "output_type": "stream",
          "text": [
            "count    172.000000\n",
            "mean       2.505814\n",
            "std        1.040114\n",
            "min        2.000000\n",
            "25%        2.000000\n",
            "50%        2.000000\n",
            "75%        3.000000\n",
            "max        9.000000\n",
            "Name: Provedores, dtype: float64\n"
          ],
          "name": "stdout"
        }
      ]
    },
    {
      "cell_type": "markdown",
      "metadata": {
        "id": "h0vwGaC_6ife"
      },
      "source": [
        "En el siguiente gráfico se observa la suma del valor del monto por todas las licitaciones que no tuvieron  su id presente en Parties\n",
        "\n",
        "\n",
        "\n"
      ]
    },
    {
      "cell_type": "code",
      "metadata": {
        "colab": {
          "base_uri": "https://localhost:8080/",
          "height": 533
        },
        "id": "0gBVKJ3rDZ88",
        "outputId": "1a7c4a20-9b1c-4ba6-8462-7d8126eea215"
      },
      "source": [
        "grafico =  GenerarInforme()\n",
        "grafico.lista1 = calculoReleaseAndParty2018.obtenerOcurrenciasSinLicitacion()\n",
        "grafico.lista2= calculoReleaseAndParty2019.obtenerOcurrenciasSinLicitacion()\n",
        "grafico.lista3 = calculoReleaseAndParty2020.obtenerOcurrenciasSinLicitacion()\n",
        "grafico.generarGraficoLicitaciones()"
      ],
      "execution_count": 213,
      "outputs": [
        {
          "output_type": "display_data",
          "data": {
            "image/png": "[encoded data removed]",
            "text/plain": [
              "<Figure size 1440x595.44 with 1 Axes>"
            ]
          },
          "metadata": {
            "tags": []
          }
        }
      ]
    },
    {
      "cell_type": "markdown",
      "metadata": {
        "id": "IcEdWXlr77D9"
      },
      "source": [
        "A continuación se trató de hacer cuatro graficos mostrando la frecuencia de las observaciones del estatus de cada licitación para todos los años. \n",
        "El primer gráfico muestra las observaciones para el estatus de \"Completado\", el segundo muestra el estatus de \"Cancelado\", el siguiente es el de \"Activos\" y el último muestra los \"Otros\" (Aquellos que tenían un estatus de \"Planeado\" o \"En planeación\")."
      ]
    },
    {
      "cell_type": "code",
      "metadata": {
        "id": "7ACmr6pVQORy"
      },
      "source": [
        "class ComparacionRelases:\n",
        "    def __init__(self, path2016, path2017, path2018, path2019, path2020):\n",
        "        self.__releases2016 = pd.read_csv(path2016)\n",
        "        self.__releases2017 = pd.read_csv(path2017)\n",
        "        self.__releases2018 = pd.read_csv(path2018)\n",
        "        self.__releases2019 = pd.read_csv(path2019)\n",
        "        self.__releases2020 = pd.read_csv(path2020)\n",
        "        self.__dataFrame = self.llenar()\n",
        "\n",
        "\n",
        "    def llenar(self):\n",
        "        return {\"Años\": [\"2016\", \"2017\", \"2018\", \"2019\", \"2020\"],\n",
        "                        \"Completado\": [self.__releases2016[\"tender/status\"].value_counts()[\"complete\"],\n",
        "                                       self.__releases2017[\"tender/status\"].value_counts()[\"complete\"],\n",
        "                                       self.__releases2018[\"tender/status\"].value_counts()[\"complete\"],\n",
        "                                       self.__releases2019[\"tender/status\"].value_counts()[\"complete\"],\n",
        "                                       self.__releases2020[\"tender/status\"].value_counts()[\"complete\"]],\n",
        "                        \"Cancelado\": [self.__releases2016[\"tender/status\"].value_counts()[\"cancelled\"],\n",
        "                                      self.__releases2017[\"tender/status\"].value_counts()[\"cancelled\"],\n",
        "                                      self.__releases2018[\"tender/status\"].value_counts()[\"cancelled\"],\n",
        "                                      self.__releases2019[\"tender/status\"].value_counts()[\"cancelled\"],\n",
        "                                      self.__releases2020[\"tender/status\"].value_counts()[\"cancelled\"]],\n",
        "                        \"Activo\": [self.__releases2016[\"tender/status\"].value_counts()[\"active\"],\n",
        "                                   self.__releases2017[\"tender/status\"].value_counts()[\"active\"],\n",
        "                                   self.__releases2018[\"tender/status\"].value_counts()[\"active\"],\n",
        "                                   self.__releases2019[\"tender/status\"].value_counts()[\"active\"],\n",
        "                                   self.__releases2020[\"tender/status\"].value_counts()[\"active\"]],\n",
        "                        \"En planeacion\": [self.__releases2016[\"tender/status\"].value_counts()[\"planning\"],\n",
        "                                          self.__releases2017[\"tender/status\"].value_counts()[\"planning\"],\n",
        "                                          self.__releases2018[\"tender/status\"].value_counts()[\"planning\"],\n",
        "                                          self.__releases2019[\"tender/status\"].value_counts()[\"planning\"],\n",
        "                                          self.__releases2020[\"tender/status\"].value_counts()[\"planning\"]],\n",
        "                        \"Planeado\": [0,\n",
        "                                     0,\n",
        "                                     0,\n",
        "                                     self.__releases2019[\"tender/status\"].value_counts()[\"planned\"],\n",
        "                                     self.__releases2020[\"tender/status\"].value_counts()[\"planned\"]]}\n",
        "\n",
        "\n",
        "    def graficarMaplotlin(self):\n",
        "      listOtros = list()\n",
        "      for x in range(5):\n",
        "        listOtros.append((self.__dataFrame[\"En planeacion\"][x] + self.__dataFrame[\"Planeado\"][x]))\n",
        "        \n",
        "      self.__dataFrame[\"Otros\"] = listOtros\n",
        "      fig, (ax1, ax2) = plt.subplots(1, 2)\n",
        "      fig.set_size_inches(20,8.27)\n",
        "      ax1.bar(self.__dataFrame[\"Años\"], self.__dataFrame[\"Completado\"])\n",
        "      \n",
        "      ax1.set_title(\"Años vs Observaciones completados\")\n",
        "      ax1.set_xlabel(\"Años\")\n",
        "      ax1.set_ylabel(\"Observaciones completadas\")\n",
        "\n",
        "      ax2.bar(self.__dataFrame[\"Años\"], self.__dataFrame[\"Cancelado\"])\n",
        "\n",
        "      ax2.set_title(\"Años vs Observaciones canceladas\")\n",
        "      ax2.set_xlabel(\"Años\")\n",
        "      ax2.set_ylabel(\"Observaciones canceladas\")\n",
        "\n",
        "      fig, (ax3, ax4) = plt.subplots(1, 2)\n",
        "      fig.set_size_inches(20,8.27)\n",
        "      ax3.bar(self.__dataFrame[\"Años\"], self.__dataFrame[\"Activo\"])\n",
        "\n",
        "      ax3.set_title(\"Años vs Observaciones activas\")\n",
        "      ax3.set_xlabel(\"Años\")\n",
        "      ax3.set_ylabel(\"Observaciones activas\")\n",
        "\n",
        "      ax4.bar(self.__dataFrame[\"Años\"], self.__dataFrame[\"Otros\"])\n",
        "\n",
        "      ax4.set_title(\"Años vs Otras observaciones\")\n",
        "      ax4.set_xlabel(\"Años\")\n",
        "      ax4.set_ylabel(\"Otras observaciones\")\n",
        "\n",
        "      plt.show()"
      ],
      "execution_count": 222,
      "outputs": []
    },
    {
      "cell_type": "code",
      "metadata": {
        "colab": {
          "base_uri": "https://localhost:8080/",
          "height": 1000
        },
        "id": "1OsS_M4oQpVH",
        "outputId": "0f2b1055-81a1-43d4-a898-6838ecca7c2e"
      },
      "source": [
        "rel2016 = \"/content/releases2016.csv\"\n",
        "rel2017 = \"/content/releases2017.csv\"\n",
        "rel2018 = \"/content/releases2018.csv\"\n",
        "rel2019 = \"/content/releases2019.csv\"\n",
        "rel2020 = \"/content/releases2020.csv\"\n",
        "comp = ComparacionRelases(rel2016,rel2017,rel2018,rel2019,rel2020)\n",
        "comp.llenar()\n",
        "comp.graficarMaplotlin()"
      ],
      "execution_count": 223,
      "outputs": [
        {
          "output_type": "display_data",
          "data": {
            "image/png": "[encoded data removed]",
            "text/plain": [
              "<Figure size 1440x595.44 with 2 Axes>"
            ]
          },
          "metadata": {
            "tags": []
          }
        },
        {
          "output_type": "display_data",
          "data": {
            "image/png": "[encoded data removed]",
            "text/plain": [
              "<Figure size 1440x595.44 with 2 Axes>"
            ]
          },
          "metadata": {
            "tags": []
          }
        }
      ]
    },
    {
      "cell_type": "markdown",
      "metadata": {
        "id": "pdI01P7_vkgt"
      },
      "source": [
        "Seguidamente se procede a mostar otra variable descriptiva, la cual indica qué era lo que se pedía en cada contratación pública (O bienes o servicios). "
      ]
    },
    {
      "cell_type": "code",
      "metadata": {
        "id": "ON0pjfsRciD5"
      },
      "source": [
        "class FrecuenciaBienes:\n",
        "    def __init__(self):\n",
        "      self.__rel2016 = pd.read_csv(\"/content/releases2016.csv\")\n",
        "      self.__rel2017 = pd.read_csv(\"/content/releases2017.csv\")\n",
        "      self.__rel2018 = pd.read_csv(\"/content/releases2018.csv\")\n",
        "      self.__rel2019 = pd.read_csv(\"/content/releases2019.csv\")\n",
        "      self.__rel2020 = pd.read_csv(\"/content/releases2020.csv\")\n",
        "\n",
        "    def generarListaPorCategorias(self, category):\n",
        "      return [self.__rel2016[\"tender/mainProcurementCategory\"].value_counts()[category], self.__rel2017[\"tender/mainProcurementCategory\"].value_counts()[category], self.__rel2018[\"tender/mainProcurementCategory\"].value_counts()[category], self.__rel2019[\"tender/mainProcurementCategory\"].value_counts()[category], self.__rel2020[\"tender/mainProcurementCategory\"].value_counts()[category]]\n",
        "\n",
        "    def generarDiccionarioCat(self):\n",
        "      return {\"Años\":[\"2016\",\"2017\",\"2018\",\"2019\",\"2020\"],\"Bienes\":self.generarListaPorCategorias(\"goods\"), \"Servicios\":self.generarListaPorCategorias(\"services\")}\n",
        "   \n",
        "    def GenerarGrafico(self):\n",
        "      a4_dims = (20,8.27)\n",
        "      dfCC = pd.DataFrame(data = self.generarDiccionarioCat())     \n",
        "      sns.set(rc={\"figure.figsize\":(10,5)})\n",
        "      fig, ax = plt.subplots(figsize=a4_dims)\n",
        "      ax = sns.lineplot(x=\"Años\", y=\"Bienes\", data=dfCC, marker=\"o\", color=\"red\")\n",
        "      ax2 = sns.lineplot(x=\"Años\", y=\"Servicios\", data=dfCC, marker=\"o\", color=\"blue\")\n",
        "      for x, y in zip(dfCC[\"Años\"], dfCC[\"Bienes\"]):\n",
        "          plt.text(x = x, y = y-45, s = str(y))\n",
        "      for p, q in zip(dfCC[\"Años\"], dfCC[\"Servicios\"]):\n",
        "          plt.text(x = p, y = q+10, s = str(q))\n",
        "      plt.legend(labels = [\"Bienes\",\"Servicios\"])\n",
        "      plt.ylabel(\"Frecuencia\")\n",
        "      plt.title(\"Frecuencia de bienes y servicios vs Años \")\n",
        "      plt.show()"
      ],
      "execution_count": 216,
      "outputs": []
    },
    {
      "cell_type": "code",
      "metadata": {
        "colab": {
          "base_uri": "https://localhost:8080/",
          "height": 533
        },
        "id": "PfwwHZABd9iF",
        "outputId": "db84ead0-9c1f-410c-91dd-ec47adf7b2c0"
      },
      "source": [
        "frecuenciaBienes = FrecuenciaBienes()\n",
        "frecuenciaBienes.GenerarGrafico()"
      ],
      "execution_count": 217,
      "outputs": [
        {
          "output_type": "display_data",
          "data": {
            "image/png": "[encoded data removed]",
            "text/plain": [
              "<Figure size 1440x595.44 with 1 Axes>"
            ]
          },
          "metadata": {
            "tags": []
          }
        }
      ]
    },
    {
      "cell_type": "markdown",
      "metadata": {
        "id": "k3bS8O6SLK9T"
      },
      "source": [
        "# Resultados obtenidos"
      ]
    },
    {
      "cell_type": "markdown",
      "metadata": {
        "id": "wjOp19vLMoC8"
      },
      "source": [
        "Se pudo observar cuántos oferentes solían tener en cada licitación, además de que también se mostró cuáles de entre esos oferentes fueron proveedores y si existían algunos en particular que se repetían constantemente en esas contrataciones abiertas."
      ]
    },
    {
      "cell_type": "markdown",
      "metadata": {
        "id": "ycSoA6bMNBrU"
      },
      "source": [
        "# Análsis de los resultados"
      ]
    },
    {
      "cell_type": "markdown",
      "metadata": {
        "id": "r-l---OYNHTD"
      },
      "source": [
        "Dado que habían licitaciones cuyos id no estaban presentes en Parties (indicando que no tuvieron oferentes del todo), era adecuado observar cuales eran estas licitaciones y encontrar una razón del fenomeno.\n",
        "Resultó ser que la mayoría de todas esas contrataciones que no tuvieron oferentes tenían un estatus de \"cancelado\", explicando el hecho de por qué nadie se ofreció para brindar los bienes o servicios.\n",
        "Sin embargo habían dos que presentaban el estatus de \"completado\", las cuales eran convenios con otras entidades públicas. Un debido análisis de estos dos casos se podría realizar a futuro."
      ]
    },
    {
      "cell_type": "markdown",
      "metadata": {
        "id": "jnRIv6Vlz3tL"
      },
      "source": [
        "También se encontraron resultados interesantes con los proveedores. Por un lado, como habían varios casos en donde la licitación presenta más de un proveedor, incluso llegando hasta 14 proveedores (el caso de una campaña de medios de comunicación donde varios medios fueron proveedores del servicio). Además de como eran compañías grandes las que solían ser las ganadores de las contrataciones abiertas, demostrando el poder de mercado que tienen incluso en este ámbito. "
      ]
    },
    {
      "cell_type": "markdown",
      "metadata": {
        "id": "0Wv_Lus7NNm_"
      },
      "source": [
        "# Conclusiones"
      ]
    },
    {
      "cell_type": "markdown",
      "metadata": {
        "id": "iBfviQQTNQJU"
      },
      "source": [
        "El Poder Judicial solía tener varios oferentes por cada licitación, siendo los casos en que eran 1 o menos, relativamente escazos. Esto es una buena señal en el sentido que muestra una diversidad de productos y opciones para las distintas contrataciones que llevaba a cabo la Corte Suprema.\n"
      ]
    },
    {
      "cell_type": "markdown",
      "metadata": {
        "id": "C88Jqp-O2XtT"
      },
      "source": [
        "Por otro lado, también se observó cómo eran las empresas grandes las que dominaban como proveedores, mostrando una posible tendencia a la acaparación o monopolización de estas contrataciones abiertas. "
      ]
    },
    {
      "cell_type": "markdown",
      "metadata": {
        "id": "GuZsTmlj2tTX"
      },
      "source": [
        "Como observación final, resultó curioso ver cómo los bienes, por encima de los servicios, fueron los más presentes en las contrataciones abiertas."
      ]
    },
    {
      "cell_type": "markdown",
      "metadata": {
        "id": "HaWLPUZ1NXIU"
      },
      "source": [
        "# Recomendaciones"
      ]
    },
    {
      "cell_type": "markdown",
      "metadata": {
        "id": "yQgImeSGNZWc"
      },
      "source": [
        "Al codigo aún se le podría dar muchísima más profundidad y análisis estadístico adecuado. También, para las variables descriptivas faltó identificar y graficar otras que hubieran sido interesantes. Finalmente, no se pudo realizar el analisis de proveedores y oferentes para los años 2016 y 2017, ya que en las Parties de ambos años, todos los involucrados para cada licitación aparecían como proveedores. No se sabe con seguridad si esto fue un error a la hora de incluir los datos o si verdaderamente era así como debían estar. "
      ]
    },
    {
      "cell_type": "markdown",
      "metadata": {
        "id": "jwBL5og94fOI"
      },
      "source": [
        "Independienmente de esto, cada uno de los miembros del equipo consideró este Data Challenge como una experiencia didáctica y enriquecedora para los conocimientos personales con lo que respecta al manejo de datos. Se espera que, a futuro, se pueda continuar creciendo, mejorando en las áreas de interés y poder aplicar lo aprendido en este período."
      ]
    }
  ]
}